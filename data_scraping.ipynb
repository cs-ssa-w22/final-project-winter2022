{
 "cells": [
  {
   "cell_type": "markdown",
   "metadata": {
    "collapsed": true,
    "pycharm": {
     "name": "#%% md\n"
    }
   },
   "source": [
    "# Data Scraping"
   ]
  },
  {
   "cell_type": "code",
   "execution_count": 6,
   "outputs": [],
   "source": [
    "import requests\n",
    "from bs4 import BeautifulSoup\n",
    "import os\n",
    "import pandas as pd\n",
    "import numpy as np\n",
    "import time\n",
    "import random\n",
    "from datetime import datetime\n",
    "from dateutil import parser\n",
    "import csv"
   ],
   "metadata": {
    "collapsed": false,
    "pycharm": {
     "name": "#%%\n"
    }
   }
  },
  {
   "cell_type": "code",
   "execution_count": 7,
   "outputs": [],
   "source": [
    "import requests\n",
    "\n",
    "headers = {\n",
    "    'authority': 'www.glassdoor.com',\n",
    "    'cache-control': 'max-age=0',\n",
    "    'sec-ch-ua': '\" Not A;Brand\";v=\"99\", \"Chromium\";v=\"98\", \"Google Chrome\";v=\"98\"',\n",
    "    'sec-ch-ua-mobile': '?0',\n",
    "    'sec-ch-ua-platform': '\"Windows\"',\n",
    "    'upgrade-insecure-requests': '1',\n",
    "    'user-agent': 'Mozilla/5.0 (Windows NT 10.0; Win64; x64) AppleWebKit/537.36 (KHTML, like Gecko) Chrome/98.0.4758.102 Safari/537.36',\n",
    "    'accept': 'text/html,application/xhtml+xml,application/xml;q=0.9,image/avif,image/webp,image/apng,*/*;q=0.8,application/signed-exchange;v=b3;q=0.9',\n",
    "    'sec-fetch-site': 'none',\n",
    "    'sec-fetch-mode': 'navigate',\n",
    "    'sec-fetch-user': '?1',\n",
    "    'sec-fetch-dest': 'document',\n",
    "    'accept-language': 'en-US,en;q=0.9',\n",
    "    'cookie': 'gdId=8ef3ca8f-c6ab-4229-984f-836c0e50cc74; trs=https%3A%2F%2Fwww.google.com%2F:SEO:SEO:2022-02-16+19%3A15%3A28.635:undefined:undefined; G_ENABLED_IDPS=google; _optionalConsent=true; _gcl_au=1.1.1520881057.1645067731; _rdt_uuid=1645067731229.bd5dc2f9-980d-4523-8f52-93b654449406; __pdst=b6385663b09344cab93e4c5dee271e00; _gaexp=GAX1.2.pYgpv90rRNC40H5kkFZirQ.19130.1; _fbp=fb.1.1645067731411.1706211231; _pin_unauth=dWlkPU16WmlZVE0xWWpVdE9UUTROUzAwWVRkakxXSmlPV1F0Tm1JM01tUmxNV0kzTXpZeQ; drift_aid=69b753fa-0f76-4133-9073-a14bb591cd34; driftt_aid=69b753fa-0f76-4133-9073-a14bb591cd34; gclid=Cj0KCQiA3rKQBhCNARIsACUEW_apNRSfPRgKHtZ71UXWbx3FbfmJZyjpLkhnt0xjJLd61WDFBL8DaQQaApWKEALw_wcB; __gads=ID=1e25dbac7b40cf6d:T=1645067757:S=ALNI_Mb6V582ziqef3pnOio4MN5u6Y12lw; ki_u=2f048bb4-72da-efb7-3fcf-626e; ki_s=213982%3A0.0.0.0.0%3B218147%3A1.0.0.0.2; indeedCtk=1fsfr0o28u1fb801; _gid=GA1.2.222016421.1645666248; ht=%7B%22quantcast%22%3A%5B%22D%22%5D%7D; _gcl_aw=GCL.1645670846.Cj0KCQiA09eQBhCxARIsAAYRiykiuaxAOLesCJ3YlSTnMRnwXGoeAaTFdYUmRjCHy_1IpXBjt9aXVmcaAqfREALw_wcB; _gac_UA-2595786-1=1.1645670847.Cj0KCQiA09eQBhCxARIsAAYRiykiuaxAOLesCJ3YlSTnMRnwXGoeAaTFdYUmRjCHy_1IpXBjt9aXVmcaAqfREALw_wcB; ki_r=; g_state={\"i_l\":1,\"i_p\":1645679486216}; uc=8013A8318C98C517E3CFBDDD0B55DDB0707D539B2805FC918DE5F9156C2BA9CF2A70FF309AE201C56F06A39ED799E316FA3A449DA2CFF5C1DF51EBD8A6AE0D8222281CECB26A2740AB65D4F6F06D28F049EF40E1676DE8FC58B77490C81F417949638519377F928E355F118CAAB3C201D09116207BD8D82F2EC07C40078089D77292B1DCFD9124E0DDB7F1A369885641; JSESSIONID=BA0A59E77B9977E0AAEE64155079C0BA; GSESSIONID=8ef3ca8f-c6ab-4229-984f-836c0e50cc74+1645748315101; cass=1; asst=1645748315.0; at=y210_Xe1M2xAD_1od_akSVLPij1_jQZCdKw80140Q5vL0rw74If-EbUcW_GZItnEpdkxYDedL5kmKphMJYPCFUEo1ij0cpLT4hs9dKBZ-o77Kl2Tp5VQtLBiC7ugDF99lZomgvFZO0wH9n6PO5RNZIafNOHzRugd3s0F7lfZY1GK1M7_SVvgsfY0e-rH7fUm61lClhUdvTFl9hFqPRs3jelAGD-tuixrwyp_l0ir2y5_CfSY6gNnLSztOBOZWvSDp6XzqLkvWlUEuNPjOmdYMzaY1fv2YCS_U3xyTXVrHvDgf0eg6gyYR3CGaYUV6Ow1Slx6pWmbe92tNAb9vDpw-vbrjP3FK5jodl8z-P956xvQQCWlN1TOiEL9U417MOgSFyoZ0249mUwqFSXv9a6ovoRZY2lkdGW2gF5S_zY00zONuHGR2JGMr2GChgzx7jFka3TcIeat470pFL-I_-WGGsiFlFKf8BgTXzjLc6TlXj_lODJbBuguBVoobWIoifSyJqqmG4jlNzg3BLaikrFhFK5IkGyPzBgqOQwX_74xUfV9KReg74WBZdN3JLx_wLNpr6KuM8LueNIkxW73C1kNpfkr39-XH0DzvjjmpWDE0YS9a_SuHeylfAWAbQgIZ-n1AZTODUtPlRxxj8lXsXAWtwRRfViG_iNT56urePS7V6bQzR_0TtKsE0b56LUHOaUZ1bOXruoQotLkdhUAtBJOx7P_VHO5vxsyf6Q5B73OPpFc5HDqNgFxrysJEKkMHTGCI5WIQhr85ts6J2bvX2nw4U7oEoa08loAphCKIt-nfCEupC0mD_VkHo1GhZgj_39O59z1EBOHTLgQZr2mHaDDiQES1k39mcLwvUhuoPBIadSLD1JOpL1PNXSTIetddwlEYwM; gdsid=1645748315101:1645749205580:3C2DF6A08B9DE7306232BE6D3ABDAE49; _ga=GA1.2.312675199.1645067731; OptanonConsent=isGpcEnabled=0&datestamp=Thu+Feb+24+2022+18%3A33%3A34+GMT-0600+(Central+Standard+Time)&version=6.28.0&isIABGlobal=false&hosts=&consentId=9fc62b5e-f280-4d5d-8b62-bdfca0c52bbb&interactionCount=1&landingPath=NotLandingPage&groups=C0001%3A1%2CC0003%3A1%2CC0002%3A1%2CC0004%3A1%2CC0017%3A1&AwaitingReconsent=false; ki_t=1645067757578%3B1645721900821%3B1645749215680%3B4%3B88; __cf_bm=_MaNHIsfnKd0Tc640VzQVH.Mp60QSLPSAolTMRVb5ZY-1645749218-0-AaXGtnuPjVaVmtcU+IkrOrYCvQNvsIzOAsbFhOmofCUAy+U8tGWqc2D3Hre9vouo0AaLMDjA5xpSGLuW5XDmPNo=; _ga_RC95PMVB3H=GS1.1.1645748316.8.1.1645749262.1; AWSALB=HkHgG36AZoek2CuipgVZqDiC4HMlECTqbqFKdJ6mD76Tk8vmka+fx0vJdxaPbBlVmS6p8/ULeHnw4HHwA8mfYtsiKD8d3J9wqIYmJeSFKW8OozGTXJ4DhxtT7Fs0dMS3JliqlqDOghsFHLDBgKMp83CeMlgC40KUuD8ZBBG/8yw/Hcyfti1fQy78a4WZIMGZjYo/FSKtc46xanZoptUvZDiewhXAS5ttL1KPU9dee6VuhBkS5b99UvZQV/daHURGqwG0FTLEOd38iwzqcijtMx7q90Uj8AJ70xWhb3GHoLNCvWd0erLlGpH0IVuKbfwf; AWSALBCORS=HkHgG36AZoek2CuipgVZqDiC4HMlECTqbqFKdJ6mD76Tk8vmka+fx0vJdxaPbBlVmS6p8/ULeHnw4HHwA8mfYtsiKD8d3J9wqIYmJeSFKW8OozGTXJ4DhxtT7Fs0dMS3JliqlqDOghsFHLDBgKMp83CeMlgC40KUuD8ZBBG/8yw/Hcyfti1fQy78a4WZIMGZjYo/FSKtc46xanZoptUvZDiewhXAS5ttL1KPU9dee6VuhBkS5b99UvZQV/daHURGqwG0FTLEOd38iwzqcijtMx7q90Uj8AJ70xWhb3GHoLNCvWd0erLlGpH0IVuKbfwf; ADRUM_BTa=R:26|g:e60311d6-c85c-4bab-8152-942cc3d90005|n:glassdoor_17d346a0-2ec1-4454-86b0-73b3b787aee9; SameSite=None; fpvc=835; _ga_844LX017SK=GS1.1.1645748316.1.1.1645749263.0',\n",
    "}\n",
    "\n",
    "params = (\n",
    "    ('sort.sortType', 'RD'),\n",
    "    ('sort.ascending', 'false'),\n",
    ")\n",
    "\n",
    "# Note: original query string below. It seems impossible to parse and\n",
    "# reproduce query strings 100% accurately so the one below is given\n",
    "# in case the reproduced version is not \"correct\".\n",
    "#response = requests.get('https://www.glassdoor.com/Interview/Google-Interview-Questions-E9079.htm?sort.sortType=RD&sort.ascending=false', headers=headers)"
   ],
   "metadata": {
    "collapsed": false,
    "pycharm": {
     "name": "#%%\n"
    }
   }
  },
  {
   "cell_type": "code",
   "execution_count": 8,
   "outputs": [],
   "source": [
    "def helper(soup, date_lst, interview_lst, question_lst):\n",
    "    for element in soup.find_all('p', class_='mt-0 mb-xxsm d-flex justify-content-between css-13r90be e1lscvyf1'):\n",
    "        d_time = parser.parse(element.find('time').text).date()\n",
    "        date_lst.append(d_time)\n",
    "\n",
    "    for element in soup.find_all('p', class_='css-lyyc14 css-w00cnv mt-xsm mb-std'):\n",
    "        interview_lst.append(element.text.replace('\\n', ' '))\n",
    "\n",
    "    for element0 in soup.find_all('div', class_='col-12'):\n",
    "        if element0.find('ul', class_ = 'pl-0 css-1bzau0h e151mjlk2'):\n",
    "            question_lst.append(element0.find('ul', class_ = 'pl-0 css-1bzau0h e151mjlk2').text.replace('Answer Question',''))\n",
    "        else:\n",
    "            question_lst.append('NA')"
   ],
   "metadata": {
    "collapsed": false,
    "pycharm": {
     "name": "#%%\n"
    }
   }
  },
  {
   "cell_type": "code",
   "execution_count": 9,
   "outputs": [],
   "source": [
    "def scrap_web_google():\n",
    "    with open('google.csv', 'w', newline=\"\", encoding='utf-8') as csvfile:\n",
    "        date_lst = []\n",
    "        interview_lst = []\n",
    "        question_lst = []\n",
    "        output = csv.writer(csvfile)\n",
    "        output.writerow(['Date', 'Interview', 'Question'])\n",
    "        with requests.get('https://www.glassdoor.com/Interview/Google-Interview-Questions-E9079.htm', headers=headers, params=params, stream=True) as r:\n",
    "            soup = BeautifulSoup(r.text, 'html.parser')\n",
    "            helper(soup, date_lst, interview_lst, question_lst)\n",
    "            output.writerows([list(i) for i in zip(date_lst, interview_lst, question_lst)])\n",
    "        for i in range(2, 1500):\n",
    "            date_lst = []\n",
    "            interview_lst = []\n",
    "            question_lst = []\n",
    "            time.sleep(random.randint(2, 6))\n",
    "            with requests.get('https://www.glassdoor.com/Interview/Google-Interview-Questions-E9079_P{page}.htm'.format(page=i), headers=headers, params=params, stream=True) as r:\n",
    "                soup = BeautifulSoup(r.text, 'html.parser')\n",
    "                helper(soup, date_lst, interview_lst, question_lst)\n",
    "                output.writerows([list(i) for i in zip(date_lst, interview_lst, question_lst)])"
   ],
   "metadata": {
    "collapsed": false,
    "pycharm": {
     "name": "#%%\n"
    }
   }
  },
  {
   "cell_type": "code",
   "execution_count": null,
   "outputs": [
    {
     "ename": "KeyboardInterrupt",
     "evalue": "",
     "output_type": "error",
     "traceback": [
      "\u001B[1;31m---------------------------------------------------------------------------\u001B[0m",
      "\u001B[1;31mKeyboardInterrupt\u001B[0m                         Traceback (most recent call last)",
      "\u001B[1;32mC:\\Users\\BAOTO_~1\\AppData\\Local\\Temp/ipykernel_15156/3864448432.py\u001B[0m in \u001B[0;36m<module>\u001B[1;34m\u001B[0m\n\u001B[1;32m----> 1\u001B[1;33m \u001B[0mscrap_web_google\u001B[0m\u001B[1;33m(\u001B[0m\u001B[1;33m)\u001B[0m\u001B[1;33m\u001B[0m\u001B[1;33m\u001B[0m\u001B[0m\n\u001B[0m",
      "\u001B[1;32mC:\\Users\\BAOTO_~1\\AppData\\Local\\Temp/ipykernel_15156/2774948829.py\u001B[0m in \u001B[0;36mscrap_web_google\u001B[1;34m()\u001B[0m\n\u001B[0;32m     14\u001B[0m             \u001B[0minterview_lst\u001B[0m \u001B[1;33m=\u001B[0m \u001B[1;33m[\u001B[0m\u001B[1;33m]\u001B[0m\u001B[1;33m\u001B[0m\u001B[1;33m\u001B[0m\u001B[0m\n\u001B[0;32m     15\u001B[0m             \u001B[0mquestion_lst\u001B[0m \u001B[1;33m=\u001B[0m \u001B[1;33m[\u001B[0m\u001B[1;33m]\u001B[0m\u001B[1;33m\u001B[0m\u001B[1;33m\u001B[0m\u001B[0m\n\u001B[1;32m---> 16\u001B[1;33m             \u001B[0mtime\u001B[0m\u001B[1;33m.\u001B[0m\u001B[0msleep\u001B[0m\u001B[1;33m(\u001B[0m\u001B[0mrandom\u001B[0m\u001B[1;33m.\u001B[0m\u001B[0mrandint\u001B[0m\u001B[1;33m(\u001B[0m\u001B[1;36m2\u001B[0m\u001B[1;33m,\u001B[0m \u001B[1;36m6\u001B[0m\u001B[1;33m)\u001B[0m\u001B[1;33m)\u001B[0m\u001B[1;33m\u001B[0m\u001B[1;33m\u001B[0m\u001B[0m\n\u001B[0m\u001B[0;32m     17\u001B[0m             \u001B[1;32mwith\u001B[0m \u001B[0mrequests\u001B[0m\u001B[1;33m.\u001B[0m\u001B[0mget\u001B[0m\u001B[1;33m(\u001B[0m\u001B[1;34m'https://www.glassdoor.com/Interview/Google-Interview-Questions-E9079_P{page}.htm'\u001B[0m\u001B[1;33m.\u001B[0m\u001B[0mformat\u001B[0m\u001B[1;33m(\u001B[0m\u001B[0mpage\u001B[0m\u001B[1;33m=\u001B[0m\u001B[0mi\u001B[0m\u001B[1;33m)\u001B[0m\u001B[1;33m,\u001B[0m \u001B[0mheaders\u001B[0m\u001B[1;33m=\u001B[0m\u001B[0mheaders\u001B[0m\u001B[1;33m,\u001B[0m \u001B[0mparams\u001B[0m\u001B[1;33m=\u001B[0m\u001B[0mparams\u001B[0m\u001B[1;33m,\u001B[0m \u001B[0mstream\u001B[0m\u001B[1;33m=\u001B[0m\u001B[1;32mTrue\u001B[0m\u001B[1;33m)\u001B[0m \u001B[1;32mas\u001B[0m \u001B[0mr\u001B[0m\u001B[1;33m:\u001B[0m\u001B[1;33m\u001B[0m\u001B[1;33m\u001B[0m\u001B[0m\n\u001B[0;32m     18\u001B[0m                 \u001B[0msoup\u001B[0m \u001B[1;33m=\u001B[0m \u001B[0mBeautifulSoup\u001B[0m\u001B[1;33m(\u001B[0m\u001B[0mr\u001B[0m\u001B[1;33m.\u001B[0m\u001B[0mtext\u001B[0m\u001B[1;33m,\u001B[0m \u001B[1;34m'html.parser'\u001B[0m\u001B[1;33m)\u001B[0m\u001B[1;33m\u001B[0m\u001B[1;33m\u001B[0m\u001B[0m\n",
      "\u001B[1;31mKeyboardInterrupt\u001B[0m: "
     ]
    }
   ],
   "source": [
    "scrap_web_google()"
   ],
   "metadata": {
    "collapsed": false,
    "pycharm": {
     "name": "#%%\n",
     "is_executing": true
    }
   }
  },
  {
   "cell_type": "code",
   "execution_count": null,
   "outputs": [],
   "source": [
    "headers = {\n",
    "    'authority': 'www.glassdoor.com',\n",
    "    'cache-control': 'max-age=0',\n",
    "    'sec-ch-ua': '\" Not A;Brand\";v=\"99\", \"Chromium\";v=\"98\", \"Google Chrome\";v=\"98\"',\n",
    "    'sec-ch-ua-mobile': '?0',\n",
    "    'sec-ch-ua-platform': '\"Windows\"',\n",
    "    'upgrade-insecure-requests': '1',\n",
    "    'user-agent': 'Mozilla/5.0 (Windows NT 10.0; Win64; x64) AppleWebKit/537.36 (KHTML, like Gecko) Chrome/98.0.4758.102 Safari/537.36',\n",
    "    'accept': 'text/html,application/xhtml+xml,application/xml;q=0.9,image/avif,image/webp,image/apng,*/*;q=0.8,application/signed-exchange;v=b3;q=0.9',\n",
    "    'sec-fetch-site': 'none',\n",
    "    'sec-fetch-mode': 'navigate',\n",
    "    'sec-fetch-user': '?1',\n",
    "    'sec-fetch-dest': 'document',\n",
    "    'accept-language': 'en-US,en;q=0.9',\n",
    "    'cookie': 'G_AUTHUSER_H=0; __qca=I0-614568025-1645675574050; gdId=8ef3ca8f-c6ab-4229-984f-836c0e50cc74; trs=https%3A%2F%2Fwww.google.com%2F:SEO:SEO:2022-02-16+19%3A15%3A28.635:undefined:undefined; G_ENABLED_IDPS=google; _optionalConsent=true; _gcl_au=1.1.1520881057.1645067731; _rdt_uuid=1645067731229.bd5dc2f9-980d-4523-8f52-93b654449406; __pdst=b6385663b09344cab93e4c5dee271e00; _gaexp=GAX1.2.pYgpv90rRNC40H5kkFZirQ.19130.1; _fbp=fb.1.1645067731411.1706211231; _pin_unauth=dWlkPU16WmlZVE0xWWpVdE9UUTROUzAwWVRkakxXSmlPV1F0Tm1JM01tUmxNV0kzTXpZeQ; drift_aid=69b753fa-0f76-4133-9073-a14bb591cd34; driftt_aid=69b753fa-0f76-4133-9073-a14bb591cd34; gclid=Cj0KCQiA3rKQBhCNARIsACUEW_apNRSfPRgKHtZ71UXWbx3FbfmJZyjpLkhnt0xjJLd61WDFBL8DaQQaApWKEALw_wcB; __gads=ID=1e25dbac7b40cf6d:T=1645067757:S=ALNI_Mb6V582ziqef3pnOio4MN5u6Y12lw; ki_u=2f048bb4-72da-efb7-3fcf-626e; ki_s=213982%3A0.0.0.0.0%3B218147%3A1.0.0.0.2; indeedCtk=1fsfr0o28u1fb801; cass=1; _gid=GA1.2.222016421.1645666248; ht=%7B%22quantcast%22%3A%5B%22D%22%5D%7D; JSESSIONID_UP_APP=1DBC5B278AF6484D29626D46C1918E20; JSESSIONID_JX_APP=1B6A08363CB2908D37D919FAE5515225; GSESSIONID=8ef3ca8f-c6ab-4229-984f-836c0e50cc74+1645666246308; _gcl_aw=GCL.1645670846.Cj0KCQiA09eQBhCxARIsAAYRiykiuaxAOLesCJ3YlSTnMRnwXGoeAaTFdYUmRjCHy_1IpXBjt9aXVmcaAqfREALw_wcB; _gac_UA-2595786-1=1.1645670847.Cj0KCQiA09eQBhCxARIsAAYRiykiuaxAOLesCJ3YlSTnMRnwXGoeAaTFdYUmRjCHy_1IpXBjt9aXVmcaAqfREALw_wcB; ki_r=; g_state={\"i_l\":1,\"i_p\":1645679486216}; uc=8013A8318C98C517E3CFBDDD0B55DDB0707D539B2805FC918DE5F9156C2BA9CF2A70FF309AE201C56F06A39ED799E316FA3A449DA2CFF5C1DF51EBD8A6AE0D8222281CECB26A2740AB65D4F6F06D28F049EF40E1676DE8FC58B77490C81F417949638519377F928E355F118CAAB3C201D09116207BD8D82F2EC07C40078089D77292B1DCFD9124E0DDB7F1A369885641; G_AUTHUSER_H=0; asst=1645678840.0; JSESSIONID=B2AF6A4896927C99881E4A2E3E3E7779; __cf_bm=SHXYFaiLtMaRAWHw5mjrJBuEkRiybYkam.YQYtCqyGw-1645682348-0-AY4MeSMB0t5zZw6OC0vzw9w1LHjt2Ucru7VUmAXR4pDrm2WVjQ2ybRDEcArlu43qM+rty57+PDdRsyxXVvGtof8=; at=Vsq_-KqTt5tOY400ooFmTfbRZ1VtLthvtUTTgi1E2Bvl16qm1ZZdqCRfZz-V-3dncHTcrLhfcO-8XJsS4AN6_VEinFEs9IrMfmMJ8u0XG5DECxpC-noFUZE9Jv-uxcv3IJrqpcR4IusxpXZ6lCn2p53hjZQxgO40u5TUXIPkyDyCV48a9AS6-hb3FyOSGMVEU8yy-LcWyT2-rclpKtkUaXIvgv0Kmv3RDeTVH_k2glGDlSL5JoHxPF5Q18lwIRR7ZOSVXTaOb7Sy1Ks9ZGj2nW0BvaXJJM_zPea0XIos_Kg-Z-2rvWr_-nM2givHGPsGMO8s8Fz-T2bgH9Vo77BJJcNEMLTWQiWDfh3nae8U4dhN6JWJvBeezJ54g0a3At26FxjSf_rvhS5pVChzJFD3fvFp1iXeJeSQabiy2-6KWlFacrZwCqWTDWxHe9egPiUNRXQy__tqC5ZJprwnRfVUePXnJtg2ZTbh6d_BxmpUyzd_aR30I_GEGppGCOa0rUZ1z3V1kFwWCkgIHA4BjcSMNxR3RXm91Mk5972p79PVw9lBC07xkhoyJewk7klsy8Y95JyIyFG5-wTMn5YO2njRrSVkzuwNVN9cHqxpToWuchpFAF12KEYC_re7PlLQz8GjPeBYcvuA4DxOg-LWcJDr7f8ChL-H0_QPaK-Fii28_P5Ok3Eyf2fkvjMX7ru2yIX7DEB38P58aAYKPcVKdV1owz4SR2YNJdkmgonbDYauSkz6H1OGBNboatr9nVeHbqMnB0F35sFock8PgjlKG7WsVaCNSARnjMvf4lysEtkOJ0b2ZDmOK6op_osKnotFx-s1jAidH9OT0zgmogKEykmfaBNkDW9lre1Bz_uaO8erQCpG94CMOJNrbWxsoxePV9qqoG1KCg; SameSite=None; _ga=GA1.2.312675199.1645067731; OptanonConsent=isGpcEnabled=0&datestamp=Thu+Feb+24+2022+00%3A09%3A33+GMT-0600+(Central+Standard+Time)&version=6.28.0&isIABGlobal=false&hosts=&consentId=9fc62b5e-f280-4d5d-8b62-bdfca0c52bbb&interactionCount=1&landingPath=NotLandingPage&groups=C0001%3A1%2CC0003%3A1%2CC0002%3A1%2CC0004%3A1%2CC0017%3A1&AwaitingReconsent=false; ki_t=1645067757578%3B1645666249446%3B1645682974748%3B3%3B64; bs=YlRfGVKYGlZNMeoKXpEbhQ:E1ZhSVhNTHjQQqBxRykS_2t-LcRCiYrBJA8gOWHSz9TaU2XoG9Fb8Dpd_dD3d3LcrlSKSfOL1KBJEA3OJqToq14kxOMbUQY2C-Ij-6W83ck:Jx5iHyt27_SJfzzFUyohShrcVPKFpuIh2XWmbmvxWkY; _dc_gtm_UA-2595786-1=1; _ga_RC95PMVB3H=GS1.1.1645677620.5.1.1645682978.60; gdsid=1645666246308:1645682979264:F2F97DF9834BD04141AE82D2499F539F; fpvc=71; AWSALB=8D/0Y0XZYkiAXhwezofaJaxkYqTVpEBq8tvtWSzk0UJ/DnIfw2Yo6dZ0wuvejHK6jPX9R1S0mx7R3cM0SgTwa2S5ZUPY5XfzmvRiP1sPy7k7rMrrE/69VblhiYPTe8LqDOpP1EGbcvnaBvisAvCDXXrYAMLTaqWdf3DwwJaC2Ck8bJJp2ooEOv6Q7ogmyZy0yQy2Npp+DNipT/2K2xOOtQ8/HI3YI0lzSW3YbFdyfM2S+NYuEToatoZy2JsmTcirmsj8XoGvC8xgmuxOvas88Q/0eK4Unz80ZAbw77hYpr5tX5EOpNV+lrfkeFUXStCY; AWSALBCORS=8D/0Y0XZYkiAXhwezofaJaxkYqTVpEBq8tvtWSzk0UJ/DnIfw2Yo6dZ0wuvejHK6jPX9R1S0mx7R3cM0SgTwa2S5ZUPY5XfzmvRiP1sPy7k7rMrrE/69VblhiYPTe8LqDOpP1EGbcvnaBvisAvCDXXrYAMLTaqWdf3DwwJaC2Ck8bJJp2ooEOv6Q7ogmyZy0yQy2Npp+DNipT/2K2xOOtQ8/HI3YI0lzSW3YbFdyfM2S+NYuEToatoZy2JsmTcirmsj8XoGvC8xgmuxOvas88Q/0eK4Unz80ZAbw77hYpr5tX5EOpNV+lrfkeFUXStCY; ADRUM_BTa=R:0|g:725024c6-63b2-4f92-89fd-e38cd3bd8d49|n:glassdoor_17d346a0-2ec1-4454-86b0-73b3b787aee9; ADRUM_BT1=R:0|i:1484610|e:171|d:136; ADRUM_BT2=R:0|i:1484605|e:170',\n",
    "}\n",
    "\n",
    "params = (\n",
    "    ('sort.sortType', 'RD'),\n",
    "    ('sort.ascending', 'false'),\n",
    ")\n",
    "\n",
    "# Note: original query string below. It seems impossible to parse and\n",
    "# reproduce query strings 100% accurately so the one below is given\n",
    "# in case the reproduced version is not \"correct\".\n",
    "#response = requests.get('https://www.glassdoor.com/Interview/Meta-Interview-Questions-E40772.htm?sort.sortType=RD&sort.ascending=false', headers=headers)"
   ],
   "metadata": {
    "collapsed": false,
    "pycharm": {
     "name": "#%%\n"
    }
   }
  },
  {
   "cell_type": "code",
   "execution_count": null,
   "outputs": [],
   "source": [
    "def scrap_web_meta():\n",
    "    with open('meta.csv', 'w', newline=\"\", encoding='utf-8') as csvfile:\n",
    "        date_lst = []\n",
    "        interview_lst = []\n",
    "        question_lst = []\n",
    "        output = csv.writer(csvfile)\n",
    "        output.writerow(['Date', 'Interview', 'Question'])\n",
    "        with requests.get('https://www.glassdoor.com/Interview/Meta-Interview-Questions-E40772.htm', headers=headers, params=params, stream=True) as r:\n",
    "            soup = BeautifulSoup(r.text, 'html.parser')\n",
    "            helper(soup, date_lst, interview_lst, question_lst)\n",
    "            output.writerows([list(i) for i in zip(date_lst, interview_lst, question_lst)])\n",
    "        for i in range(2, 906):\n",
    "            date_lst = []\n",
    "            interview_lst = []\n",
    "            question_lst = []\n",
    "            time.sleep(random.randint(2, 6))\n",
    "            with requests.get('https://www.glassdoor.com/Interview/Meta-Interview-Questions-E40772_P{page}.htm'.format(page=i), headers=headers, params=params, stream=True) as r:\n",
    "                soup = BeautifulSoup(r.text, 'html.parser')\n",
    "                helper(soup, date_lst, interview_lst, question_lst)\n",
    "                output.writerows([list(i) for i in zip(date_lst, interview_lst, question_lst)])"
   ],
   "metadata": {
    "collapsed": false,
    "pycharm": {
     "name": "#%%\n"
    }
   }
  },
  {
   "cell_type": "code",
   "execution_count": null,
   "outputs": [],
   "source": [
    "scrap_web_meta()"
   ],
   "metadata": {
    "collapsed": false,
    "pycharm": {
     "name": "#%%\n"
    }
   }
  },
  {
   "cell_type": "code",
   "execution_count": 3,
   "outputs": [],
   "source": [
    "import requests\n",
    "\n",
    "headers = {\n",
    "    'authority': 'www.glassdoor.com',\n",
    "    'cache-control': 'max-age=0',\n",
    "    'sec-ch-ua': '\" Not A;Brand\";v=\"99\", \"Chromium\";v=\"98\", \"Google Chrome\";v=\"98\"',\n",
    "    'sec-ch-ua-mobile': '?0',\n",
    "    'sec-ch-ua-platform': '\"Windows\"',\n",
    "    'upgrade-insecure-requests': '1',\n",
    "    'user-agent': 'Mozilla/5.0 (Windows NT 10.0; Win64; x64) AppleWebKit/537.36 (KHTML, like Gecko) Chrome/98.0.4758.102 Safari/537.36',\n",
    "    'accept': 'text/html,application/xhtml+xml,application/xml;q=0.9,image/avif,image/webp,image/apng,*/*;q=0.8,application/signed-exchange;v=b3;q=0.9',\n",
    "    'sec-fetch-site': 'none',\n",
    "    'sec-fetch-mode': 'navigate',\n",
    "    'sec-fetch-user': '?1',\n",
    "    'sec-fetch-dest': 'document',\n",
    "    'accept-language': 'en-US,en;q=0.9',\n",
    "    'cookie': 'gdId=8ef3ca8f-c6ab-4229-984f-836c0e50cc74; trs=https%3A%2F%2Fwww.google.com%2F:SEO:SEO:2022-02-16+19%3A15%3A28.635:undefined:undefined; G_ENABLED_IDPS=google; _optionalConsent=true; _gcl_au=1.1.1520881057.1645067731; _rdt_uuid=1645067731229.bd5dc2f9-980d-4523-8f52-93b654449406; __pdst=b6385663b09344cab93e4c5dee271e00; _gaexp=GAX1.2.pYgpv90rRNC40H5kkFZirQ.19130.1; _fbp=fb.1.1645067731411.1706211231; _pin_unauth=dWlkPU16WmlZVE0xWWpVdE9UUTROUzAwWVRkakxXSmlPV1F0Tm1JM01tUmxNV0kzTXpZeQ; drift_aid=69b753fa-0f76-4133-9073-a14bb591cd34; driftt_aid=69b753fa-0f76-4133-9073-a14bb591cd34; gclid=Cj0KCQiA3rKQBhCNARIsACUEW_apNRSfPRgKHtZ71UXWbx3FbfmJZyjpLkhnt0xjJLd61WDFBL8DaQQaApWKEALw_wcB; __gads=ID=1e25dbac7b40cf6d:T=1645067757:S=ALNI_Mb6V582ziqef3pnOio4MN5u6Y12lw; ki_u=2f048bb4-72da-efb7-3fcf-626e; ki_s=213982%3A0.0.0.0.0%3B218147%3A1.0.0.0.2; indeedCtk=1fsfr0o28u1fb801; _gid=GA1.2.222016421.1645666248; ht=%7B%22quantcast%22%3A%5B%22D%22%5D%7D; _gcl_aw=GCL.1645670846.Cj0KCQiA09eQBhCxARIsAAYRiykiuaxAOLesCJ3YlSTnMRnwXGoeAaTFdYUmRjCHy_1IpXBjt9aXVmcaAqfREALw_wcB; _gac_UA-2595786-1=1.1645670847.Cj0KCQiA09eQBhCxARIsAAYRiykiuaxAOLesCJ3YlSTnMRnwXGoeAaTFdYUmRjCHy_1IpXBjt9aXVmcaAqfREALw_wcB; ki_r=; g_state={\"i_l\":1,\"i_p\":1645679486216}; uc=8013A8318C98C517E3CFBDDD0B55DDB0707D539B2805FC918DE5F9156C2BA9CF2A70FF309AE201C56F06A39ED799E316FA3A449DA2CFF5C1DF51EBD8A6AE0D8222281CECB26A2740AB65D4F6F06D28F049EF40E1676DE8FC58B77490C81F417949638519377F928E355F118CAAB3C201D09116207BD8D82F2EC07C40078089D77292B1DCFD9124E0DDB7F1A369885641; JSESSIONID=900D5A9819B14D8426A2423E1719732A; GSESSIONID=8ef3ca8f-c6ab-4229-984f-836c0e50cc74+1645721897458; cass=1; gdsid=1645721897458:1645721897458:1F9B164C0D2A1D2DBA23AFB7AF6499DB; at=dPTsKzdTw_oT-ke0viKd74Y6GQxcQt39TyrdVEcU81fbT0jKXKxGx7d3ctCG1Y2qVf9YAaX4Y2JapPsQ8_tw-X_vDSLs3GLSCNNJ9PuzOS_GWLiUXdcsTfjb3AHG42jH_mihNoT28gBMF5pjVhKBcMjPkeON5fF7pFBUsXbz86wlyMsXomsFEk4X1dowLwkMw-FuTcTB82tRD-kSCAeP0YI7V4LC31oVeKNutgG3kczGU6DPMZNFVB7u_r3j7ebuTspNV_WTa6engKqUhYt9dCek_50cgpPqvqRrrN4tR-KIJrEmP9ws9uC6IFlYf3_aJuT17BJFhghDUf-milJveunMdybjrhoWueIm97NPQsG9md6D3qrMfUwszpSXktPjiY1loRdrsYNHjsC4HnJg6wVGsXtD-oqA0rU-bWLqpG-5JsrRL5EVsZ3gtApqls3QvFqK7wjjpmHRrl21wHsxU7T6Kd_YZlG_ob2J_BBjICzfyczGR1Dz4pv1RtxAmzh-MXyLqhPBkNtqojP5HumABuXy7W83_ZcNz2bBgADfroeixvZwObTkwaEFCv6s59kKlP7Q037_wxRBF6Yqw8dGOR64fSFxoFM45xrlfg9OXahSMA1CEx_wjd-GAUE7l2jpYzSiSjiCiypabNFyKeIylox3Y8Wm8eUJC3cFhivPzAvMZnw6mk0zf3h8yTExw5_bf5XY7OHOOufNeIQDsdglUBW2yr58kqfyNQCHWmxYVoqIzD9WFxGh_yg4GpWpwZsQVyX0Y57u49TfNS-te1FYe0Y5W3aHl7u0Jyx_0Vn_t1j0VsuX5IEC8AGjanFKhw0bWYa2WH16NA7XSeTk8gUVIAHDIlE8COQkENy07_cZAzR1LEyipqiBy-Ns65qBr8s6OmI; asst=1645721897.0; __cf_bm=IHiwE4R36AvNQoDxO5VZr_Ksf8Lutb4qfaadojV4O_Q-1645721898-0-ARKh6AE+lYQocOSkRKKUfgxkG6aupeoeJaNKv5HyFpuuAgEEDqKL5XWnlmFAQf9j8PfxmgS4eBLYIu8WAzVN3Mg=; _ga=GA1.2.312675199.1645067731; OptanonConsent=isGpcEnabled=0&datestamp=Thu+Feb+24+2022+10%3A58%3A48+GMT-0600+(Central+Standard+Time)&version=6.28.0&isIABGlobal=false&hosts=&consentId=9fc62b5e-f280-4d5d-8b62-bdfca0c52bbb&interactionCount=1&landingPath=NotLandingPage&groups=C0001%3A1%2CC0003%3A1%2CC0002%3A1%2CC0004%3A1%2CC0017%3A1&AwaitingReconsent=false; ki_t=1645067757578%3B1645721900821%3B1645721929064%3B4%3B80; _dc_gtm_UA-2595786-1=1; _ga_RC95PMVB3H=GS1.1.1645721897.7.1.1645722014.60; AWSALB=Qq32OTDPYZwvx59DLQUS+55MTaNM9wTv8DGOC/SGxNP2ofeNm41IKXwXrDaKsq4tU7xuJRaHrhzqMCxgYB1vW/yMWUNUzcMD+kv/dkzs6KU1ae2y1WSiID0jJGEDJfBTLLnLn7Xag4IpI3ttsV2P+kNW5u4d9tqaKXW5x5wEpPRJWTqwo3BJfrXEz5tPO31T87sLI5Pnx52GQYZFMQKTDV+AMUdQQJexZEuV/hvuBlTUfy8M6/heLTbhA2WZ4qwGCt3+g6/4+TyVqr2Mdo3XhxedM4pOKnSuvW1amkD2wpkO5BswU8GDChQrBoSJRP4t; AWSALBCORS=Qq32OTDPYZwvx59DLQUS+55MTaNM9wTv8DGOC/SGxNP2ofeNm41IKXwXrDaKsq4tU7xuJRaHrhzqMCxgYB1vW/yMWUNUzcMD+kv/dkzs6KU1ae2y1WSiID0jJGEDJfBTLLnLn7Xag4IpI3ttsV2P+kNW5u4d9tqaKXW5x5wEpPRJWTqwo3BJfrXEz5tPO31T87sLI5Pnx52GQYZFMQKTDV+AMUdQQJexZEuV/hvuBlTUfy8M6/heLTbhA2WZ4qwGCt3+g6/4+TyVqr2Mdo3XhxedM4pOKnSuvW1amkD2wpkO5BswU8GDChQrBoSJRP4t; ADRUM_BTa=R:26|g:7e81a9af-f18c-4191-98f1-1a1afd20c079|n:glassdoor_17d346a0-2ec1-4454-86b0-73b3b787aee9; SameSite=None; fpvc=833; bs=yhLESfz9dEwsr-m_a09rZA:87aM2uq37wsIo_byTtb7bzBhDJJHBBZo7iWz_QCVo6dQvN_A2abhdOmrDjR5jAA5qgvWDPQ2AweEKEhf47nlupucS_An1g6TPDlgN2qwnKY:_Us2hmGgLLejvu2E7HzGdAFMayedcFOJljTLgse1sNY',\n",
    "}\n",
    "\n",
    "params = (\n",
    "    ('sort.sortType', 'RD'),\n",
    "    ('sort.ascending', 'false'),\n",
    ")\n",
    "\n",
    "# Note: original query string below. It seems impossible to parse and\n",
    "# reproduce query strings 100% accurately so the one below is given\n",
    "# in case the reproduced version is not \"correct\".\n",
    "#response = requests.get('https://www.glassdoor.com/Interview/Amazon-Interview-Questions-E6036.htm?sort.sortType=RD&sort.ascending=false', headers=headers)"
   ],
   "metadata": {
    "collapsed": false,
    "pycharm": {
     "name": "#%%\n"
    }
   }
  },
  {
   "cell_type": "code",
   "execution_count": 4,
   "outputs": [],
   "source": [
    "def scrap_web_amazon():\n",
    "    with open('amazon.csv', 'w', newline=\"\", encoding='utf-8') as csvfile:\n",
    "        date_lst = []\n",
    "        interview_lst = []\n",
    "        question_lst = []\n",
    "        output = csv.writer(csvfile)\n",
    "        output.writerow(['Date', 'Interview', 'Question'])\n",
    "        with requests.get('https://www.glassdoor.com/Interview/Amazon-Interview-Questions-E6036.htm', headers=headers, params=params, stream=True) as r:\n",
    "            soup = BeautifulSoup(r.text, 'html.parser')\n",
    "            helper(soup, date_lst, interview_lst, question_lst)\n",
    "            output.writerows([list(i) for i in zip(date_lst, interview_lst, question_lst)])\n",
    "        for i in range(2, 3835):\n",
    "            date_lst = []\n",
    "            interview_lst = []\n",
    "            question_lst = []\n",
    "            time.sleep(random.randint(2, 6))\n",
    "            with requests.get('https://www.glassdoor.com/Interview/Amazon-Interview-Questions-E6036_P{page}.htm'.format(page=i), headers=headers, params=params, stream=True) as r:\n",
    "                soup = BeautifulSoup(r.text, 'html.parser')\n",
    "                helper(soup, date_lst, interview_lst, question_lst)\n",
    "                output.writerows([list(i) for i in zip(date_lst, interview_lst, question_lst)])"
   ],
   "metadata": {
    "collapsed": false,
    "pycharm": {
     "name": "#%%\n"
    }
   }
  },
  {
   "cell_type": "code",
   "execution_count": 5,
   "outputs": [],
   "source": [
    "scrap_web_amazon()"
   ],
   "metadata": {
    "collapsed": false,
    "pycharm": {
     "name": "#%%\n"
    }
   }
  },
  {
   "cell_type": "code",
   "execution_count": 6,
   "outputs": [],
   "source": [
    "import requests\n",
    "\n",
    "headers = {\n",
    "    'authority': 'www.glassdoor.com',\n",
    "    'cache-control': 'max-age=0',\n",
    "    'sec-ch-ua': '\" Not A;Brand\";v=\"99\", \"Chromium\";v=\"98\", \"Google Chrome\";v=\"98\"',\n",
    "    'sec-ch-ua-mobile': '?0',\n",
    "    'sec-ch-ua-platform': '\"Windows\"',\n",
    "    'upgrade-insecure-requests': '1',\n",
    "    'user-agent': 'Mozilla/5.0 (Windows NT 10.0; Win64; x64) AppleWebKit/537.36 (KHTML, like Gecko) Chrome/98.0.4758.102 Safari/537.36',\n",
    "    'accept': 'text/html,application/xhtml+xml,application/xml;q=0.9,image/avif,image/webp,image/apng,*/*;q=0.8,application/signed-exchange;v=b3;q=0.9',\n",
    "    'sec-fetch-site': 'none',\n",
    "    'sec-fetch-mode': 'navigate',\n",
    "    'sec-fetch-user': '?1',\n",
    "    'sec-fetch-dest': 'document',\n",
    "    'accept-language': 'en-US,en;q=0.9',\n",
    "    'cookie': 'gdId=8ef3ca8f-c6ab-4229-984f-836c0e50cc74; trs=https%3A%2F%2Fwww.google.com%2F:SEO:SEO:2022-02-16+19%3A15%3A28.635:undefined:undefined; G_ENABLED_IDPS=google; _optionalConsent=true; _gcl_au=1.1.1520881057.1645067731; _rdt_uuid=1645067731229.bd5dc2f9-980d-4523-8f52-93b654449406; __pdst=b6385663b09344cab93e4c5dee271e00; _gaexp=GAX1.2.pYgpv90rRNC40H5kkFZirQ.19130.1; _fbp=fb.1.1645067731411.1706211231; _pin_unauth=dWlkPU16WmlZVE0xWWpVdE9UUTROUzAwWVRkakxXSmlPV1F0Tm1JM01tUmxNV0kzTXpZeQ; drift_aid=69b753fa-0f76-4133-9073-a14bb591cd34; driftt_aid=69b753fa-0f76-4133-9073-a14bb591cd34; gclid=Cj0KCQiA3rKQBhCNARIsACUEW_apNRSfPRgKHtZ71UXWbx3FbfmJZyjpLkhnt0xjJLd61WDFBL8DaQQaApWKEALw_wcB; __gads=ID=1e25dbac7b40cf6d:T=1645067757:S=ALNI_Mb6V582ziqef3pnOio4MN5u6Y12lw; ki_u=2f048bb4-72da-efb7-3fcf-626e; ki_s=213982%3A0.0.0.0.0%3B218147%3A1.0.0.0.2; indeedCtk=1fsfr0o28u1fb801; _gid=GA1.2.222016421.1645666248; ht=%7B%22quantcast%22%3A%5B%22D%22%5D%7D; _gcl_aw=GCL.1645670846.Cj0KCQiA09eQBhCxARIsAAYRiykiuaxAOLesCJ3YlSTnMRnwXGoeAaTFdYUmRjCHy_1IpXBjt9aXVmcaAqfREALw_wcB; _gac_UA-2595786-1=1.1645670847.Cj0KCQiA09eQBhCxARIsAAYRiykiuaxAOLesCJ3YlSTnMRnwXGoeAaTFdYUmRjCHy_1IpXBjt9aXVmcaAqfREALw_wcB; ki_r=; g_state={\"i_l\":1,\"i_p\":1645679486216}; uc=8013A8318C98C517E3CFBDDD0B55DDB0707D539B2805FC918DE5F9156C2BA9CF2A70FF309AE201C56F06A39ED799E316FA3A449DA2CFF5C1DF51EBD8A6AE0D8222281CECB26A2740AB65D4F6F06D28F049EF40E1676DE8FC58B77490C81F417949638519377F928E355F118CAAB3C201D09116207BD8D82F2EC07C40078089D77292B1DCFD9124E0DDB7F1A369885641; SameSite=None; JSESSIONID=BA0A59E77B9977E0AAEE64155079C0BA; GSESSIONID=8ef3ca8f-c6ab-4229-984f-836c0e50cc74+1645748315101; cass=1; gdsid=1645748315101:1645748315101:4171A39DF5B129BD04931897A6C88EFB; at=V8V3vtUQCpOGp3I3wdVuanqxwNJY1QxbQAFcgcTYf9uPaJzfZxqSbaBewycDYAxOE5qnAM69F-Z-TyMyU07tZ1aEG4Eh7SbrF6DhtGGbE87u5MIee-7BMaD5vx21YbHhjxAwIx1OxNlA3DH2qyICsri207yu6iuGI_-kAG55TFPpq08muXJTcuPRUwrQrvZIUs-FlnIuNHHukUdQLtuQuNTXPNCENIAxrTwBtZUwU9o9tlJZCE8-bNC6OBWmKa90AtGUsQaYZes0nhst3Emue0Fvd8N5vOLJ1Hbn7ra_1XP5MO3ZPzutLGgWCBtpvHEXIpxs-IKh1aIH2AmU0RbFLVTj8JpinSZeeMtrsKwrUoiDJIPzyxFhp_abH-zUWhfHJxR6EHpPDRF3jgwaCtKdX1wfiLT0_cWm6yDd_spU84pi7rRY4INAAbsuWMyOrlObZWhPG_dUQ90GYaYHYoyjXiV5ZofesRN32ivmae_2dJMGfkuzoBOPcD-RgP2xQxrMX-mLqbaYNKXcTPZCUOKd0it687VIzX3Yu1qvC-rNDwtXzC-fWOJpv35ElQZlfzZegyf2z1nDw0Mhqyo9DtJm9JSj9xMJ-mPDUTyZgMtLcQjzFxllERYqWXMpWEhrgTWXor6gR9FtZdCA6kFj0F-IUxl_CTIo4stcX6Ayp5JMc6XbRPXl6B1lnZT6_tjvAQTJM-gsMWpNgXSfANA0NDQEX89MR0hbDX6TwoDAWVw1JHbr1JsxzQ5j_2vpdrRcumQxWGi7xDtRgjzPtGt8cW9ekHJ6gNe71lkqwBtHlw5Q9JbduEIwgU8bj8UZ5BxhTtKXOdirtTw52js_nCItVGERP3JfV4BLhcHdGnEJ7RfDtrq5X3UNaM1GqVCBLJG1Nxmy4rQ; asst=1645748315.0; bs=fC9MfCa5bOoHrTf5l-ftVQ:DMDaWFt0xPHmx2EQt1RRDeEqRCYVYB45cO3Z9ojlCLuybV71xx-YE9bjCNNv6yS9f2Os6iOkLEA1rNUXT454p1S7x065dga-NX_TvTfBUO8:wNuuetOW9PguSN9-5225AVVOodUgwDjbC94NrS-r1s8; __cf_bm=_xtVbnA._f35Wqhgt_wx5uciHnp8iz.5aE3PNc.iK5k-1645748315-0-AfT3aGWd4uYbHC8y6GoB+ldgZR+oRqt7XcAlyYS6XRYYmzWuZFfZmzxoU59fZBD0aRYos6KWYNxHKZIykmz9ckg=; _dc_gtm_UA-2595786-1=1; OptanonConsent=isGpcEnabled=0&datestamp=Thu+Feb+24+2022+18%3A18%3A49+GMT-0600+(Central+Standard+Time)&version=6.28.0&isIABGlobal=false&hosts=&consentId=9fc62b5e-f280-4d5d-8b62-bdfca0c52bbb&interactionCount=1&landingPath=NotLandingPage&groups=C0001%3A1%2CC0003%3A1%2CC0002%3A1%2CC0004%3A1%2CC0017%3A1&AwaitingReconsent=false; ki_t=1645067757578%3B1645721900821%3B1645748330568%3B4%3B83; _ga=GA1.2.312675199.1645067731; _ga_RC95PMVB3H=GS1.1.1645748316.8.1.1645748335.41; _ga_844LX017SK=GS1.1.1645748316.1.1.1645748335.0; AWSALB=gn+CneFrOuSzQg/PARD9rs23o+cZJZ3tPVYkDg2jhxGVtLTN4uDtLH/aXI1ZWYnmUuMCNnQ9LdCK1m7uRM4S8WCMfQTM/3Kyei0mRDEybsyY8S9ooXRS9X5rPhs/c9SEkCmZ2QPW2J7cqEmFBcl6q9dGEpxg2yxOxp7UReL2mTrAGNelhn72CyZM8RpZlE3dnyCDoXkfDrg9q1XW7hl9zJNR4DH3EaUieqjYF/0QZUysEfVPl0gWd4vUsrIso72u2jJY/DDt8GFIJX4g2GsJCaopjnmJwGB2aAJVvehPJkQLDelgIGYU66b0alTGNfAk; AWSALBCORS=gn+CneFrOuSzQg/PARD9rs23o+cZJZ3tPVYkDg2jhxGVtLTN4uDtLH/aXI1ZWYnmUuMCNnQ9LdCK1m7uRM4S8WCMfQTM/3Kyei0mRDEybsyY8S9ooXRS9X5rPhs/c9SEkCmZ2QPW2J7cqEmFBcl6q9dGEpxg2yxOxp7UReL2mTrAGNelhn72CyZM8RpZlE3dnyCDoXkfDrg9q1XW7hl9zJNR4DH3EaUieqjYF/0QZUysEfVPl0gWd4vUsrIso72u2jJY/DDt8GFIJX4g2GsJCaopjnmJwGB2aAJVvehPJkQLDelgIGYU66b0alTGNfAk; ADRUM_BTa=R:26|g:49d436eb-c28e-48e6-92e8-d8262bfacc3c|n:glassdoor_17d346a0-2ec1-4454-86b0-73b3b787aee9; fpvc=834',\n",
    "}\n",
    "\n",
    "params = (\n",
    "    ('sort.sortType', 'RD'),\n",
    "    ('sort.ascending', 'false'),\n",
    ")\n",
    "\n",
    "# Note: original query string below. It seems impossible to parse and\n",
    "# reproduce query strings 100% accurately so the one below is given\n",
    "# in case the reproduced version is not \"correct\".\n",
    "#response = requests.get('https://www.glassdoor.com/Interview/Netflix-Interview-Questions-E11891.htm?sort.sortType=RD&sort.ascending=false', headers=headers)"
   ],
   "metadata": {
    "collapsed": false,
    "pycharm": {
     "name": "#%%\n"
    }
   }
  },
  {
   "cell_type": "code",
   "execution_count": 7,
   "outputs": [],
   "source": [
    "def scrap_web_netflix():\n",
    "    info_dict = {}\n",
    "    date_lst = []\n",
    "    interview_lst = []\n",
    "    question_lst = []\n",
    "\n",
    "    response = requests.get('https://www.glassdoor.com/Interview/Netflix-Interview-Questions-E11891.htm', headers=headers, params=params)\n",
    "    soup = BeautifulSoup(response.text, 'html.parser')\n",
    "    helper(soup, date_lst, interview_lst, question_lst)\n",
    "    for i in range(2, 95):\n",
    "        time.sleep(random.randint(2, 4))\n",
    "        response = requests.get('https://www.glassdoor.com/Interview/Netflix-Interview-Questions-E11891_P{page}.htm'.format(page=i), headers=headers, params=params)\n",
    "        soup = BeautifulSoup(response.text, 'html.parser')\n",
    "        helper(soup, date_lst, interview_lst, question_lst)\n",
    "    info_dict['Date'] = date_lst\n",
    "    info_dict['Interview'] = interview_lst\n",
    "    info_dict['Question'] = question_lst\n",
    "    return pd.DataFrame(info_dict)"
   ],
   "metadata": {
    "collapsed": false,
    "pycharm": {
     "name": "#%%\n"
    }
   }
  },
  {
   "cell_type": "code",
   "execution_count": 8,
   "outputs": [],
   "source": [
    "netflix_df = scrap_web_netflix()"
   ],
   "metadata": {
    "collapsed": false,
    "pycharm": {
     "name": "#%%\n"
    }
   }
  },
  {
   "cell_type": "code",
   "execution_count": 9,
   "outputs": [
    {
     "data": {
      "text/plain": "         Date                                          Interview  \\\n0  2022-02-22  Efficient process with immediate responses. Fr...   \n1  2022-02-22  Smooth and well coordinated. Shuffled between ...   \n2  2022-02-20  They're as easy or difficult as you make them;...   \n3  2022-02-19  Technical Screen assessed online with five que...   \n4  2022-02-17  Before the interview, I. heard that the hiring...   \n\n                                            Question  \n0            Describe your background in publicity.   \n1                           What shows do you watch?  \n2  They're as easy or difficult as you make them;...  \n3  Asked about a time that I disagreed with a tea...  \n4  As a designer, what is your methodology for ta...  ",
      "text/html": "<div>\n<style scoped>\n    .dataframe tbody tr th:only-of-type {\n        vertical-align: middle;\n    }\n\n    .dataframe tbody tr th {\n        vertical-align: top;\n    }\n\n    .dataframe thead th {\n        text-align: right;\n    }\n</style>\n<table border=\"1\" class=\"dataframe\">\n  <thead>\n    <tr style=\"text-align: right;\">\n      <th></th>\n      <th>Date</th>\n      <th>Interview</th>\n      <th>Question</th>\n    </tr>\n  </thead>\n  <tbody>\n    <tr>\n      <th>0</th>\n      <td>2022-02-22</td>\n      <td>Efficient process with immediate responses. Fr...</td>\n      <td>Describe your background in publicity.</td>\n    </tr>\n    <tr>\n      <th>1</th>\n      <td>2022-02-22</td>\n      <td>Smooth and well coordinated. Shuffled between ...</td>\n      <td>What shows do you watch?</td>\n    </tr>\n    <tr>\n      <th>2</th>\n      <td>2022-02-20</td>\n      <td>They're as easy or difficult as you make them;...</td>\n      <td>They're as easy or difficult as you make them;...</td>\n    </tr>\n    <tr>\n      <th>3</th>\n      <td>2022-02-19</td>\n      <td>Technical Screen assessed online with five que...</td>\n      <td>Asked about a time that I disagreed with a tea...</td>\n    </tr>\n    <tr>\n      <th>4</th>\n      <td>2022-02-17</td>\n      <td>Before the interview, I. heard that the hiring...</td>\n      <td>As a designer, what is your methodology for ta...</td>\n    </tr>\n  </tbody>\n</table>\n</div>"
     },
     "execution_count": 9,
     "metadata": {},
     "output_type": "execute_result"
    }
   ],
   "source": [
    "netflix_df.head()"
   ],
   "metadata": {
    "collapsed": false,
    "pycharm": {
     "name": "#%%\n"
    }
   }
  },
  {
   "cell_type": "code",
   "execution_count": 10,
   "outputs": [],
   "source": [
    "netflix_df.to_csv(os.getcwd()+'/netflix.csv')"
   ],
   "metadata": {
    "collapsed": false,
    "pycharm": {
     "name": "#%%\n"
    }
   }
  },
  {
   "cell_type": "code",
   "execution_count": null,
   "outputs": [],
   "source": [],
   "metadata": {
    "collapsed": false,
    "pycharm": {
     "name": "#%%\n"
    }
   }
  }
 ],
 "metadata": {
  "kernelspec": {
   "display_name": "Python 3",
   "language": "python",
   "name": "python3"
  },
  "language_info": {
   "codemirror_mode": {
    "name": "ipython",
    "version": 2
   },
   "file_extension": ".py",
   "mimetype": "text/x-python",
   "name": "python",
   "nbconvert_exporter": "python",
   "pygments_lexer": "ipython2",
   "version": "2.7.6"
  }
 },
 "nbformat": 4,
 "nbformat_minor": 0
}